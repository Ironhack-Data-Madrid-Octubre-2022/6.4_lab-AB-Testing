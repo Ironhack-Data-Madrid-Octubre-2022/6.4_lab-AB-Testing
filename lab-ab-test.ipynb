{
 "cells": [
  {
   "cell_type": "markdown",
   "id": "angry-pearl",
   "metadata": {
    "toc": true
   },
   "source": [
    "<h1>Table of Contents<span class=\"tocSkip\"></span></h1>\n",
    "<div class=\"toc\"><ul class=\"toc-item\"><li><span><a href=\"#AB-Testing\" data-toc-modified-id=\"AB-Testing-1\"><span class=\"toc-item-num\">1&nbsp;&nbsp;</span>AB-Testing</a></span></li></ul></div>"
   ]
  },
  {
   "cell_type": "markdown",
   "id": "c92ba6e0",
   "metadata": {},
   "source": [
    "# AB-Testing\n",
    "\n",
    "![cats](images/cats.jpeg)\n",
    "\n",
    "\n",
    "Imaginad que somos los cientificos de datos de la empresa de videojuegos Tactile Entertainment. Los desarrolladores del juego Cookie Cats pretenden introducir un cambio en el juego para aumentar la retencion de los jugadores. En cierto nivel del juego los jugadores se encuentran una puerta que les obliga a esperar o a pagar la app. Actualmente la puerta se encuentra en nivel 30 y se pretende pasar al nivel 40, para comprobar la retencion a 1 y 7 dias. Antes de realizar el cambio definitivo en el juego se raliza un test AB.\n",
    "\n",
    "Los datos estan alojados en `data/cookie_cats.csv`. Nuestro grupo de control sera la version actual `gate_30` y el grupo de tratamiento sera la version `gate_40`. Debemos realizar el test para 1 dia de retencion `retention_1` y para 7 dias `retention_7`."
   ]
  },
  {
   "cell_type": "code",
   "execution_count": 1,
   "id": "ac3b2f52",
   "metadata": {},
   "outputs": [],
   "source": [
    "# librerias\n",
    "\n",
    "import pandas as pd\n",
    "import numpy as np\n",
    "\n",
    "from statsmodels.stats.proportion import proportions_ztest, proportion_confint\n",
    "from scipy.stats import norm, sem\n",
    "import scipy.stats as stats\n",
    "import seaborn as sns\n",
    "\n",
    "import pylab as plt"
   ]
  },
  {
   "cell_type": "code",
   "execution_count": 2,
   "id": "7fe515c2",
   "metadata": {},
   "outputs": [
    {
     "data": {
      "text/html": [
       "<div>\n",
       "<style scoped>\n",
       "    .dataframe tbody tr th:only-of-type {\n",
       "        vertical-align: middle;\n",
       "    }\n",
       "\n",
       "    .dataframe tbody tr th {\n",
       "        vertical-align: top;\n",
       "    }\n",
       "\n",
       "    .dataframe thead th {\n",
       "        text-align: right;\n",
       "    }\n",
       "</style>\n",
       "<table border=\"1\" class=\"dataframe\">\n",
       "  <thead>\n",
       "    <tr style=\"text-align: right;\">\n",
       "      <th></th>\n",
       "      <th>userid</th>\n",
       "      <th>version</th>\n",
       "      <th>sum_gamerounds</th>\n",
       "      <th>retention_1</th>\n",
       "      <th>retention_7</th>\n",
       "    </tr>\n",
       "  </thead>\n",
       "  <tbody>\n",
       "    <tr>\n",
       "      <th>0</th>\n",
       "      <td>116</td>\n",
       "      <td>gate_30</td>\n",
       "      <td>3</td>\n",
       "      <td>False</td>\n",
       "      <td>False</td>\n",
       "    </tr>\n",
       "    <tr>\n",
       "      <th>1</th>\n",
       "      <td>337</td>\n",
       "      <td>gate_30</td>\n",
       "      <td>38</td>\n",
       "      <td>True</td>\n",
       "      <td>False</td>\n",
       "    </tr>\n",
       "    <tr>\n",
       "      <th>2</th>\n",
       "      <td>377</td>\n",
       "      <td>gate_40</td>\n",
       "      <td>165</td>\n",
       "      <td>True</td>\n",
       "      <td>False</td>\n",
       "    </tr>\n",
       "    <tr>\n",
       "      <th>3</th>\n",
       "      <td>483</td>\n",
       "      <td>gate_40</td>\n",
       "      <td>1</td>\n",
       "      <td>False</td>\n",
       "      <td>False</td>\n",
       "    </tr>\n",
       "    <tr>\n",
       "      <th>4</th>\n",
       "      <td>488</td>\n",
       "      <td>gate_40</td>\n",
       "      <td>179</td>\n",
       "      <td>True</td>\n",
       "      <td>True</td>\n",
       "    </tr>\n",
       "  </tbody>\n",
       "</table>\n",
       "</div>"
      ],
      "text/plain": [
       "   userid  version  sum_gamerounds  retention_1  retention_7\n",
       "0     116  gate_30               3        False        False\n",
       "1     337  gate_30              38         True        False\n",
       "2     377  gate_40             165         True        False\n",
       "3     483  gate_40               1        False        False\n",
       "4     488  gate_40             179         True         True"
      ]
     },
     "execution_count": 2,
     "metadata": {},
     "output_type": "execute_result"
    }
   ],
   "source": [
    "# datos\n",
    "df = pd.read_csv('data/cookie_cats.csv')\n",
    "\n",
    "df.head()"
   ]
  },
  {
   "cell_type": "code",
   "execution_count": 3,
   "id": "8376ac8b",
   "metadata": {},
   "outputs": [
    {
     "name": "stdout",
     "output_type": "stream",
     "text": [
      "<class 'pandas.core.frame.DataFrame'>\n",
      "RangeIndex: 90189 entries, 0 to 90188\n",
      "Data columns (total 5 columns):\n",
      " #   Column          Non-Null Count  Dtype \n",
      "---  ------          --------------  ----- \n",
      " 0   userid          90189 non-null  int64 \n",
      " 1   version         90189 non-null  object\n",
      " 2   sum_gamerounds  90189 non-null  int64 \n",
      " 3   retention_1     90189 non-null  bool  \n",
      " 4   retention_7     90189 non-null  bool  \n",
      "dtypes: bool(2), int64(2), object(1)\n",
      "memory usage: 2.2+ MB\n"
     ]
    }
   ],
   "source": [
    "df.info()"
   ]
  },
  {
   "cell_type": "code",
   "execution_count": 4,
   "id": "edbfcfba",
   "metadata": {},
   "outputs": [
    {
     "data": {
      "text/plain": [
       "gate_40    45489\n",
       "gate_30    44700\n",
       "Name: version, dtype: int64"
      ]
     },
     "execution_count": 4,
     "metadata": {},
     "output_type": "execute_result"
    }
   ],
   "source": [
    "df.version.value_counts()"
   ]
  },
  {
   "cell_type": "code",
   "execution_count": 5,
   "id": "98af40ad",
   "metadata": {},
   "outputs": [],
   "source": [
    "# transformacion\n",
    "lista = []\n",
    "for x in df.version:\n",
    "    if x == 'gate_30':\n",
    "        lista.append('control')\n",
    "    else:\n",
    "        lista.append('treatment')\n",
    "df.version = lista"
   ]
  },
  {
   "cell_type": "code",
   "execution_count": 6,
   "id": "f2e6147a",
   "metadata": {},
   "outputs": [
    {
     "data": {
      "text/plain": [
       "(retention_1  False   True\n",
       " version                  \n",
       " control      24666  20034\n",
       " treatment    25370  20119,\n",
       " retention_7  False  True\n",
       " version                 \n",
       " control      36198  8502\n",
       " treatment    37210  8279)"
      ]
     },
     "execution_count": 6,
     "metadata": {},
     "output_type": "execute_result"
    }
   ],
   "source": [
    "pd.crosstab(df.version, df.retention_1), pd.crosstab(df.version, df.retention_7)"
   ]
  },
  {
   "cell_type": "code",
   "execution_count": 7,
   "id": "06f1dd05",
   "metadata": {},
   "outputs": [
    {
     "data": {
      "image/png": "[encoded data removed]",
      "text/plain": [
       "<Figure size 432x288 with 1 Axes>"
      ]
     },
     "metadata": {
      "needs_background": "light"
     },
     "output_type": "display_data"
    }
   ],
   "source": [
    "pd.crosstab(df.version, df.retention_1).plot(kind = 'bar');"
   ]
  },
  {
   "cell_type": "code",
   "execution_count": 8,
   "id": "76bd5fed",
   "metadata": {},
   "outputs": [
    {
     "data": {
      "image/png": "[encoded data removed]",
      "text/plain": [
       "<Figure size 432x288 with 1 Axes>"
      ]
     },
     "metadata": {
      "needs_background": "light"
     },
     "output_type": "display_data"
    }
   ],
   "source": [
    "pd.crosstab(df.version, df.retention_7).plot(kind = 'bar');"
   ]
  },
  {
   "cell_type": "code",
   "execution_count": 9,
   "id": "86d3632c",
   "metadata": {},
   "outputs": [
    {
     "data": {
      "text/html": [
       "<div>\n",
       "<style scoped>\n",
       "    .dataframe tbody tr th:only-of-type {\n",
       "        vertical-align: middle;\n",
       "    }\n",
       "\n",
       "    .dataframe tbody tr th {\n",
       "        vertical-align: top;\n",
       "    }\n",
       "\n",
       "    .dataframe thead th {\n",
       "        text-align: right;\n",
       "    }\n",
       "</style>\n",
       "<table border=\"1\" class=\"dataframe\">\n",
       "  <thead>\n",
       "    <tr style=\"text-align: right;\">\n",
       "      <th></th>\n",
       "      <th>userid</th>\n",
       "      <th>version</th>\n",
       "      <th>sum_gamerounds</th>\n",
       "      <th>retention_1</th>\n",
       "      <th>retention_7</th>\n",
       "    </tr>\n",
       "  </thead>\n",
       "  <tbody>\n",
       "    <tr>\n",
       "      <th>0</th>\n",
       "      <td>7540471</td>\n",
       "      <td>control</td>\n",
       "      <td>45</td>\n",
       "      <td>True</td>\n",
       "      <td>False</td>\n",
       "    </tr>\n",
       "    <tr>\n",
       "      <th>1</th>\n",
       "      <td>3589138</td>\n",
       "      <td>control</td>\n",
       "      <td>21</td>\n",
       "      <td>True</td>\n",
       "      <td>False</td>\n",
       "    </tr>\n",
       "    <tr>\n",
       "      <th>2</th>\n",
       "      <td>3177668</td>\n",
       "      <td>control</td>\n",
       "      <td>14</td>\n",
       "      <td>True</td>\n",
       "      <td>False</td>\n",
       "    </tr>\n",
       "    <tr>\n",
       "      <th>3</th>\n",
       "      <td>2133884</td>\n",
       "      <td>control</td>\n",
       "      <td>26</td>\n",
       "      <td>False</td>\n",
       "      <td>False</td>\n",
       "    </tr>\n",
       "    <tr>\n",
       "      <th>4</th>\n",
       "      <td>492763</td>\n",
       "      <td>control</td>\n",
       "      <td>39</td>\n",
       "      <td>True</td>\n",
       "      <td>True</td>\n",
       "    </tr>\n",
       "  </tbody>\n",
       "</table>\n",
       "</div>"
      ],
      "text/plain": [
       "    userid  version  sum_gamerounds  retention_1  retention_7\n",
       "0  7540471  control              45         True        False\n",
       "1  3589138  control              21         True        False\n",
       "2  3177668  control              14         True        False\n",
       "3  2133884  control              26        False        False\n",
       "4   492763  control              39         True         True"
      ]
     },
     "execution_count": 9,
     "metadata": {},
     "output_type": "execute_result"
    }
   ],
   "source": [
    "# muestreo\n",
    "control=df[df.version=='control'].sample(n=44700, random_state=22)\n",
    "\n",
    "tratamiento=df[df.version=='treatment'].sample(n=44700, random_state=22)\n",
    "\n",
    "ab_test=pd.concat([control, tratamiento], axis=0)\n",
    "\n",
    "ab_test.reset_index(drop=True, inplace=True)\n",
    "\n",
    "ab_test.head()"
   ]
  },
  {
   "cell_type": "code",
   "execution_count": 10,
   "id": "f956937b",
   "metadata": {},
   "outputs": [
    {
     "data": {
      "text/plain": [
       "control      44700\n",
       "treatment    44700\n",
       "Name: version, dtype: int64"
      ]
     },
     "execution_count": 10,
     "metadata": {},
     "output_type": "execute_result"
    }
   ],
   "source": [
    "ab_test.version.value_counts()"
   ]
  },
  {
   "cell_type": "code",
   "execution_count": 11,
   "id": "3b2b9444",
   "metadata": {},
   "outputs": [
    {
     "data": {
      "text/html": [
       "<style type=\"text/css\">\n",
       "</style>\n",
       "<table id=\"T_50cf1\">\n",
       "  <thead>\n",
       "    <tr>\n",
       "      <th class=\"blank level0\" >&nbsp;</th>\n",
       "      <th id=\"T_50cf1_level0_col0\" class=\"col_heading level0 col0\" >conversion_rate</th>\n",
       "      <th id=\"T_50cf1_level0_col1\" class=\"col_heading level0 col1\" >std</th>\n",
       "      <th id=\"T_50cf1_level0_col2\" class=\"col_heading level0 col2\" >std_error</th>\n",
       "    </tr>\n",
       "    <tr>\n",
       "      <th class=\"index_name level0\" >version</th>\n",
       "      <th class=\"blank col0\" >&nbsp;</th>\n",
       "      <th class=\"blank col1\" >&nbsp;</th>\n",
       "      <th class=\"blank col2\" >&nbsp;</th>\n",
       "    </tr>\n",
       "  </thead>\n",
       "  <tbody>\n",
       "    <tr>\n",
       "      <th id=\"T_50cf1_level0_row0\" class=\"row_heading level0 row0\" >control</th>\n",
       "      <td id=\"T_50cf1_row0_col0\" class=\"data row0 col0\" >0.448</td>\n",
       "      <td id=\"T_50cf1_row0_col1\" class=\"data row0 col1\" >0.497</td>\n",
       "      <td id=\"T_50cf1_row0_col2\" class=\"data row0 col2\" >0.002</td>\n",
       "    </tr>\n",
       "    <tr>\n",
       "      <th id=\"T_50cf1_level0_row1\" class=\"row_heading level0 row1\" >treatment</th>\n",
       "      <td id=\"T_50cf1_row1_col0\" class=\"data row1 col0\" >0.442</td>\n",
       "      <td id=\"T_50cf1_row1_col1\" class=\"data row1 col1\" >0.497</td>\n",
       "      <td id=\"T_50cf1_row1_col2\" class=\"data row1 col2\" >0.002</td>\n",
       "    </tr>\n",
       "  </tbody>\n",
       "</table>\n"
      ],
      "text/plain": [
       "<pandas.io.formats.style.Styler at 0x1bf3a2e0ac0>"
      ]
     },
     "execution_count": 11,
     "metadata": {},
     "output_type": "execute_result"
    }
   ],
   "source": [
    "tasas_conversion=ab_test.groupby('version')['retention_1']  # agrupo por grupo\n",
    "\n",
    "\n",
    "std=lambda x: np.std(x, ddof=0)    # std\n",
    "error_std=lambda x: stats.sem(x, ddof=0)   # error standard , (std/sqrt(n))\n",
    "\n",
    "\n",
    "\n",
    "tasas_conversion=tasas_conversion.agg([np.mean, std, error_std])\n",
    "tasas_conversion.columns=['conversion_rate', 'std', 'std_error']\n",
    "\n",
    "\n",
    "tasas_conversion.style.format('{:.3f}')"
   ]
  },
  {
   "cell_type": "code",
   "execution_count": 12,
   "id": "8fb489c0",
   "metadata": {},
   "outputs": [
    {
     "data": {
      "text/html": [
       "<style type=\"text/css\">\n",
       "</style>\n",
       "<table id=\"T_46e39\">\n",
       "  <thead>\n",
       "    <tr>\n",
       "      <th class=\"blank level0\" >&nbsp;</th>\n",
       "      <th id=\"T_46e39_level0_col0\" class=\"col_heading level0 col0\" >conversion_rate</th>\n",
       "      <th id=\"T_46e39_level0_col1\" class=\"col_heading level0 col1\" >std</th>\n",
       "      <th id=\"T_46e39_level0_col2\" class=\"col_heading level0 col2\" >std_error</th>\n",
       "    </tr>\n",
       "    <tr>\n",
       "      <th class=\"index_name level0\" >version</th>\n",
       "      <th class=\"blank col0\" >&nbsp;</th>\n",
       "      <th class=\"blank col1\" >&nbsp;</th>\n",
       "      <th class=\"blank col2\" >&nbsp;</th>\n",
       "    </tr>\n",
       "  </thead>\n",
       "  <tbody>\n",
       "    <tr>\n",
       "      <th id=\"T_46e39_level0_row0\" class=\"row_heading level0 row0\" >control</th>\n",
       "      <td id=\"T_46e39_row0_col0\" class=\"data row0 col0\" >0.190</td>\n",
       "      <td id=\"T_46e39_row0_col1\" class=\"data row0 col1\" >0.392</td>\n",
       "      <td id=\"T_46e39_row0_col2\" class=\"data row0 col2\" >0.002</td>\n",
       "    </tr>\n",
       "    <tr>\n",
       "      <th id=\"T_46e39_level0_row1\" class=\"row_heading level0 row1\" >treatment</th>\n",
       "      <td id=\"T_46e39_row1_col0\" class=\"data row1 col0\" >0.182</td>\n",
       "      <td id=\"T_46e39_row1_col1\" class=\"data row1 col1\" >0.386</td>\n",
       "      <td id=\"T_46e39_row1_col2\" class=\"data row1 col2\" >0.002</td>\n",
       "    </tr>\n",
       "  </tbody>\n",
       "</table>\n"
      ],
      "text/plain": [
       "<pandas.io.formats.style.Styler at 0x1bf34ae6ca0>"
      ]
     },
     "execution_count": 12,
     "metadata": {},
     "output_type": "execute_result"
    }
   ],
   "source": [
    "tasas_conversion2=ab_test.groupby('version')['retention_7']  # agrupo por grupo\n",
    "\n",
    "\n",
    "\n",
    "std=lambda x: np.std(x, ddof=0)    # std\n",
    "error_std=lambda x: stats.sem(x, ddof=0)   # error standard , (std/sqrt(n))\n",
    "\n",
    "\n",
    "\n",
    "tasas_conversion2=tasas_conversion2.agg([np.mean, std, error_std])\n",
    "tasas_conversion2.columns=['conversion_rate', 'std', 'std_error']\n",
    "\n",
    "\n",
    "tasas_conversion2.style.format('{:.3f}')"
   ]
  },
  {
   "cell_type": "code",
   "execution_count": 13,
   "id": "6d836129",
   "metadata": {},
   "outputs": [
    {
     "data": {
      "image/png": "[encoded data removed]",
      "text/plain": [
       "<Figure size 576x432 with 1 Axes>"
      ]
     },
     "metadata": {
      "needs_background": "light"
     },
     "output_type": "display_data"
    }
   ],
   "source": [
    "plt.figure(figsize=(8,6))\n",
    "\n",
    "sns.barplot(x=ab_test['version'], \n",
    "            y=ab_test['retention_1'])\n",
    "\n",
    "plt.ylim(0, 0.6)\n",
    "plt.title('Tasa de conversión por grupo')\n",
    "plt.xlabel('Grupo')\n",
    "plt.ylabel('Convertido (proporción)');"
   ]
  },
  {
   "cell_type": "code",
   "execution_count": 14,
   "id": "1bc3fa15",
   "metadata": {},
   "outputs": [
    {
     "data": {
      "image/png": "[encoded data removed]",
      "text/plain": [
       "<Figure size 576x432 with 1 Axes>"
      ]
     },
     "metadata": {
      "needs_background": "light"
     },
     "output_type": "display_data"
    }
   ],
   "source": [
    "plt.figure(figsize=(8,6))\n",
    "\n",
    "sns.barplot(x=ab_test['version'], \n",
    "            y=ab_test['retention_7'])\n",
    "\n",
    "plt.ylim(0, 0.6)\n",
    "plt.title('Tasa de conversión por grupo')\n",
    "plt.xlabel('Grupo')\n",
    "plt.ylabel('Convertido (proporción)');"
   ]
  },
  {
   "cell_type": "code",
   "execution_count": 15,
   "id": "5b90c429",
   "metadata": {},
   "outputs": [],
   "source": [
    "# testeo para retention_1\n",
    "control_res=ab_test[ab_test.version=='control']['retention_1']\n",
    "\n",
    "trat_res=ab_test[ab_test.version=='treatment']['retention_1']"
   ]
  },
  {
   "cell_type": "code",
   "execution_count": 16,
   "id": "5c5366b6",
   "metadata": {},
   "outputs": [],
   "source": [
    "observaciones=[44700, 44700]\n",
    "\n",
    "conversiones=[control_res.sum(), trat_res.sum()]\n",
    "\n",
    "z_score, p_valor = proportions_ztest(conversiones, nobs=observaciones)\n",
    "\n",
    "(control_a, trata_a), (control_b, trata_b) = proportion_confint(conversiones, \n",
    "                                                                nobs=observaciones,\n",
    "                                                                alpha=0.05)"
   ]
  },
  {
   "cell_type": "code",
   "execution_count": 17,
   "id": "98250ba6",
   "metadata": {},
   "outputs": [
    {
     "name": "stdout",
     "output_type": "stream",
     "text": [
      "z-score: 1.85\n",
      "p-valor: 0.064\n",
      "intervalo conf 95% para grupo control: [0.444, 0.453]\n",
      "intervalo conf 95% para grupo tratamiento: [0.437, 0.447]\n"
     ]
    }
   ],
   "source": [
    "print(f'z-score: {z_score:.2f}')\n",
    "print(f'p-valor: {p_valor:.3f}')\n",
    "print(f'intervalo conf 95% para grupo control: [{control_a:.3f}, {control_b:.3f}]')\n",
    "print(f'intervalo conf 95% para grupo tratamiento: [{trata_a:.3f}, {trata_b:.3f}]')"
   ]
  },
  {
   "cell_type": "code",
   "execution_count": 18,
   "id": "a048a711",
   "metadata": {},
   "outputs": [
    {
     "name": "stdout",
     "output_type": "stream",
     "text": [
      "z-score: 3.19\n",
      "p-valor: 0.001\n",
      "intervalo conf 95% para grupo control: [0.187, 0.194]\n",
      "intervalo conf 95% para grupo tratamiento: [0.178, 0.185]\n"
     ]
    }
   ],
   "source": [
    "# testeo para retention_7\n",
    "control_res2=ab_test[ab_test.version=='control']['retention_7']\n",
    "\n",
    "trat_res2=ab_test[ab_test.version=='treatment']['retention_7']\n",
    "\n",
    "conversiones2=[control_res2.sum(), trat_res2.sum()]\n",
    "\n",
    "z_score2, p_valor2 = proportions_ztest(conversiones2, nobs=observaciones)\n",
    "\n",
    "(control_a2, trata_a2), (control_b2, trata_b2) = proportion_confint(conversiones2, \n",
    "                                                                nobs=observaciones,\n",
    "                                                                alpha=0.05)\n",
    "print(f'z-score: {z_score2:.2f}')\n",
    "print(f'p-valor: {p_valor2:.3f}')\n",
    "print(f'intervalo conf 95% para grupo control: [{control_a2:.3f}, {control_b2:.3f}]')\n",
    "print(f'intervalo conf 95% para grupo tratamiento: [{trata_a2:.3f}, {trata_b2:.3f}]')"
   ]
  },
  {
   "cell_type": "code",
   "execution_count": 19,
   "id": "cooked-magnet",
   "metadata": {},
   "outputs": [
    {
     "data": {
      "text/plain": [
       "(           conversion_rate       std  std_error\n",
       " version                                        \n",
       " control           0.448188  0.497308   0.002352\n",
       " treatment         0.442036  0.496629   0.002349,\n",
       "            conversion_rate       std  std_error\n",
       " version                                        \n",
       " control           0.190201  0.392460   0.001856\n",
       " treatment         0.181902  0.385763   0.001825)"
      ]
     },
     "execution_count": 19,
     "metadata": {},
     "output_type": "execute_result"
    }
   ],
   "source": [
    "# conclusiones\n",
    "# Explica detalladamente las conclusiones obtenidas de. tu testeo.\n",
    "tasas_conversion, tasas_conversion2"
   ]
  },
  {
   "cell_type": "code",
   "execution_count": 20,
   "id": "bfdf3fa2",
   "metadata": {},
   "outputs": [
    {
     "data": {
      "image/png": "[encoded data removed]",
      "text/plain": [
       "<Figure size 432x288 with 1 Axes>"
      ]
     },
     "metadata": {
      "needs_background": "light"
     },
     "output_type": "display_data"
    }
   ],
   "source": [
    "x=[i*.1 for i in range(-15, 23)]  \n",
    "\n",
    "control=[norm.pdf(x, tasas_conversion.iloc[0][0], tasas_conversion.iloc[0][1]) for x in x] \n",
    "\n",
    "tratamiento=[norm.pdf(x, tasas_conversion.iloc[1][0], tasas_conversion.iloc[1][1]) for x in x] \n",
    "\n",
    "plt.plot(x, control)\n",
    "plt.plot(x, tratamiento)\n",
    "plt.legend(['control', 'tratamiento']);"
   ]
  },
  {
   "cell_type": "code",
   "execution_count": 21,
   "id": "9b2b27e9",
   "metadata": {},
   "outputs": [
    {
     "data": {
      "image/png": "[encoded data removed]",
      "text/plain": [
       "<Figure size 432x288 with 1 Axes>"
      ]
     },
     "metadata": {
      "needs_background": "light"
     },
     "output_type": "display_data"
    }
   ],
   "source": [
    "x=[i*.1 for i in range(-15, 23)]  \n",
    "\n",
    "control2=[norm.pdf(x, tasas_conversion2.iloc[0][0], tasas_conversion2.iloc[0][1]) for x in x] \n",
    "\n",
    "tratamiento2=[norm.pdf(x, tasas_conversion2.iloc[1][0], tasas_conversion2.iloc[1][1]) for x in x] \n",
    "\n",
    "plt.plot(x, control2)\n",
    "plt.plot(x, tratamiento2)\n",
    "plt.legend(['control', 'tratamiento']);"
   ]
  },
  {
   "cell_type": "code",
   "execution_count": 22,
   "id": "721420bf",
   "metadata": {},
   "outputs": [
    {
     "data": {
      "text/plain": [
       "'\\nDado que el p_valor=0.064 es mayor que alpha = 0.05 para la retencion 1, no podemos rechazar la hipótesis nula H_0, \\nlo que significa que no hay diferencia en el primer dia en poner la puerta al nivel 30 que en el nivel 40.\\n\\nEn cambio en la retention_7 el p_valor=0.001 es menor que alpha = 0.05, por lo que rechazamos H_0,\\nlo que nos dice es que si hay una diferencia significativa entre la puerta al nivel 30 que en el 40.\\n\\nA los 7 dias con la puerta al nivel 40 perdemos un 1-2 % de interactividad respecto al nivel 30.\\n'"
      ]
     },
     "execution_count": 22,
     "metadata": {},
     "output_type": "execute_result"
    }
   ],
   "source": [
    "#Conclusiones\n",
    "'''\n",
    "Dado que el p_valor=0.064 es mayor que alpha = 0.05 para la retencion 1, no podemos rechazar la hipótesis nula H_0, \n",
    "lo que significa que no hay diferencia en el primer dia en poner la puerta al nivel 30 que en el nivel 40.\n",
    "\n",
    "En cambio en la retention_7 el p_valor=0.001 es menor que alpha = 0.05, por lo que rechazamos H_0,\n",
    "lo que nos dice es que si hay una diferencia significativa entre la puerta al nivel 30 que en el 40.\n",
    "\n",
    "A los 7 dias con la puerta al nivel 40 perdemos un 1-2 % de interactividad respecto al nivel 30.\n",
    "'''"
   ]
  },
  {
   "cell_type": "code",
   "execution_count": 23,
   "id": "2c0b6d54",
   "metadata": {},
   "outputs": [
    {
     "data": {
      "text/plain": [
       "3"
      ]
     },
     "execution_count": 23,
     "metadata": {},
     "output_type": "execute_result"
    }
   ],
   "source": [
    "lista = [1,2,3,4]\n",
    "lista2 = [1,2,3,4]\n",
    "lista[-2]"
   ]
  },
  {
   "cell_type": "code",
   "execution_count": 26,
   "id": "d4394288",
   "metadata": {},
   "outputs": [
    {
     "ename": "NameError",
     "evalue": "name 'lista2' is not defined",
     "output_type": "error",
     "traceback": [
      "\u001b[1;31m---------------------------------------------------------------------------\u001b[0m",
      "\u001b[1;31mNameError\u001b[0m                                 Traceback (most recent call last)",
      "Input \u001b[1;32mIn [26]\u001b[0m, in \u001b[0;36m<cell line: 1>\u001b[1;34m()\u001b[0m\n\u001b[1;32m----> 1\u001b[0m lista\u001b[38;5;241m*\u001b[39m\u001b[43mlista2\u001b[49m\n",
      "\u001b[1;31mNameError\u001b[0m: name 'lista2' is not defined"
     ]
    }
   ],
   "source": [
    "lista*lista2"
   ]
  },
  {
   "cell_type": "code",
   "execution_count": 25,
   "id": "b8ae13ea",
   "metadata": {},
   "outputs": [
    {
     "name": "stdout",
     "output_type": "stream",
     "text": [
      "Help on function dot in module numpy:\n",
      "\n",
      "dot(...)\n",
      "    dot(a, b, out=None)\n",
      "    \n",
      "    Dot product of two arrays. Specifically,\n",
      "    \n",
      "    - If both `a` and `b` are 1-D arrays, it is inner product of vectors\n",
      "      (without complex conjugation).\n",
      "    \n",
      "    - If both `a` and `b` are 2-D arrays, it is matrix multiplication,\n",
      "      but using :func:`matmul` or ``a @ b`` is preferred.\n",
      "    \n",
      "    - If either `a` or `b` is 0-D (scalar), it is equivalent to :func:`multiply`\n",
      "      and using ``numpy.multiply(a, b)`` or ``a * b`` is preferred.\n",
      "    \n",
      "    - If `a` is an N-D array and `b` is a 1-D array, it is a sum product over\n",
      "      the last axis of `a` and `b`.\n",
      "    \n",
      "    - If `a` is an N-D array and `b` is an M-D array (where ``M>=2``), it is a\n",
      "      sum product over the last axis of `a` and the second-to-last axis of `b`::\n",
      "    \n",
      "        dot(a, b)[i,j,k,m] = sum(a[i,j,:] * b[k,:,m])\n",
      "    \n",
      "    Parameters\n",
      "    ----------\n",
      "    a : array_like\n",
      "        First argument.\n",
      "    b : array_like\n",
      "        Second argument.\n",
      "    out : ndarray, optional\n",
      "        Output argument. This must have the exact kind that would be returned\n",
      "        if it was not used. In particular, it must have the right type, must be\n",
      "        C-contiguous, and its dtype must be the dtype that would be returned\n",
      "        for `dot(a,b)`. This is a performance feature. Therefore, if these\n",
      "        conditions are not met, an exception is raised, instead of attempting\n",
      "        to be flexible.\n",
      "    \n",
      "    Returns\n",
      "    -------\n",
      "    output : ndarray\n",
      "        Returns the dot product of `a` and `b`.  If `a` and `b` are both\n",
      "        scalars or both 1-D arrays then a scalar is returned; otherwise\n",
      "        an array is returned.\n",
      "        If `out` is given, then it is returned.\n",
      "    \n",
      "    Raises\n",
      "    ------\n",
      "    ValueError\n",
      "        If the last dimension of `a` is not the same size as\n",
      "        the second-to-last dimension of `b`.\n",
      "    \n",
      "    See Also\n",
      "    --------\n",
      "    vdot : Complex-conjugating dot product.\n",
      "    tensordot : Sum products over arbitrary axes.\n",
      "    einsum : Einstein summation convention.\n",
      "    matmul : '@' operator as method with out parameter.\n",
      "    linalg.multi_dot : Chained dot product.\n",
      "    \n",
      "    Examples\n",
      "    --------\n",
      "    >>> np.dot(3, 4)\n",
      "    12\n",
      "    \n",
      "    Neither argument is complex-conjugated:\n",
      "    \n",
      "    >>> np.dot([2j, 3j], [2j, 3j])\n",
      "    (-13+0j)\n",
      "    \n",
      "    For 2-D arrays it is the matrix product:\n",
      "    \n",
      "    >>> a = [[1, 0], [0, 1]]\n",
      "    >>> b = [[4, 1], [2, 2]]\n",
      "    >>> np.dot(a, b)\n",
      "    array([[4, 1],\n",
      "           [2, 2]])\n",
      "    \n",
      "    >>> a = np.arange(3*4*5*6).reshape((3,4,5,6))\n",
      "    >>> b = np.arange(3*4*5*6)[::-1].reshape((5,4,6,3))\n",
      "    >>> np.dot(a, b)[2,3,2,1,2,2]\n",
      "    499128\n",
      "    >>> sum(a[2,3,2,:] * b[1,2,:,2])\n",
      "    499128\n",
      "\n"
     ]
    }
   ],
   "source": [
    "help(np.dot)"
   ]
  },
  {
   "cell_type": "code",
   "execution_count": null,
   "id": "e1c2e699",
   "metadata": {},
   "outputs": [],
   "source": []
  }
 ],
 "metadata": {
  "finalized": {
   "timestamp": 1642857010293,
   "trusted": true
  },
  "kernelspec": {
   "display_name": "Python 3 (ipykernel)",
   "language": "python",
   "name": "python3"
  },
  "language_info": {
   "codemirror_mode": {
    "name": "ipython",
    "version": 3
   },
   "file_extension": ".py",
   "mimetype": "text/x-python",
   "name": "python",
   "nbconvert_exporter": "python",
   "pygments_lexer": "ipython3",
   "version": "3.9.12"
  },
  "toc": {
   "base_numbering": 1,
   "nav_menu": {},
   "number_sections": true,
   "sideBar": true,
   "skip_h1_title": false,
   "title_cell": "Table of Contents",
   "title_sidebar": "Contents",
   "toc_cell": true,
   "toc_position": {},
   "toc_section_display": true,
   "toc_window_display": false
  },
  "varInspector": {
   "cols": {
    "lenName": 16,
    "lenType": 16,
    "lenVar": 40
   },
   "kernels_config": {
    "python": {
     "delete_cmd_postfix": "",
     "delete_cmd_prefix": "del ",
     "library": "var_list.py",
     "varRefreshCmd": "print(var_dic_list())"
    },
    "r": {
     "delete_cmd_postfix": ") ",
     "delete_cmd_prefix": "rm(",
     "library": "var_list.r",
     "varRefreshCmd": "cat(var_dic_list()) "
    }
   },
   "types_to_exclude": [
    "module",
    "function",
    "builtin_function_or_method",
    "instance",
    "_Feature"
   ],
   "window_display": false
  }
 },
 "nbformat": 4,
 "nbformat_minor": 5
}
