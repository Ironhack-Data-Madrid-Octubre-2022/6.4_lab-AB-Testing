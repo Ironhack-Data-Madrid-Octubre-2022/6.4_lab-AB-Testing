{
 "cells": [
  {
   "cell_type": "markdown",
   "id": "angry-pearl",
   "metadata": {
    "toc": true
   },
   "source": [
    "<h1>Table of Contents<span class=\"tocSkip\"></span></h1>\n",
    "<div class=\"toc\"><ul class=\"toc-item\"><li><span><a href=\"#AB-Testing\" data-toc-modified-id=\"AB-Testing-1\"><span class=\"toc-item-num\">1&nbsp;&nbsp;</span>AB-Testing</a></span></li></ul></div>"
   ]
  },
  {
   "cell_type": "markdown",
   "id": "c92ba6e0",
   "metadata": {},
   "source": [
    "# AB-Testing\n",
    "\n",
    "![cats](images/cats.jpeg)\n",
    "\n",
    "\n",
    "Imaginad que somos los cientificos de datos de la empresa de videojuegos Tactile Entertainment. Los desarrolladores del juego Cookie Cats pretenden introducir un cambio en el juego para aumentar la retencion de los jugadores. En cierto nivel del juego los jugadores se encuentran una puerta que les obliga a esperar o a pagar la app. Actualmente la puerta se encuentra en nivel 30 y se pretende pasar al nivel 40, para comprobar la retencion a 1 y 7 dias. Antes de realizar el cambio definitivo en el juego se raliza un test AB.\n",
    "\n",
    "Los datos estan alojados en `data/cookie_cats.csv`. Nuestro grupo de control sera la version actual `gate_30` y el grupo de tratamiento sera la version `gate_40`. Debemos realizar el test para 1 dia de retencion `retention_1` y para 7 dias `retention_7`."
   ]
  },
  {
   "cell_type": "code",
   "execution_count": 1,
   "id": "ac3b2f52",
   "metadata": {},
   "outputs": [],
   "source": [
    "# librerias\n",
    "\n",
    "import numpy as np\n",
    "import pandas as pd\n",
    "\n",
    "import scipy.stats as stats\n",
    "import statsmodels.stats.api as sms\n",
    "\n",
    "import pylab as plt\n",
    "import seaborn as sns\n",
    "\n",
    "%matplotlib inline"
   ]
  },
  {
   "cell_type": "code",
   "execution_count": 2,
   "id": "7fe515c2",
   "metadata": {},
   "outputs": [
    {
     "data": {
      "text/html": [
       "<div>\n",
       "<style scoped>\n",
       "    .dataframe tbody tr th:only-of-type {\n",
       "        vertical-align: middle;\n",
       "    }\n",
       "\n",
       "    .dataframe tbody tr th {\n",
       "        vertical-align: top;\n",
       "    }\n",
       "\n",
       "    .dataframe thead th {\n",
       "        text-align: right;\n",
       "    }\n",
       "</style>\n",
       "<table border=\"1\" class=\"dataframe\">\n",
       "  <thead>\n",
       "    <tr style=\"text-align: right;\">\n",
       "      <th></th>\n",
       "      <th>userid</th>\n",
       "      <th>version</th>\n",
       "      <th>sum_gamerounds</th>\n",
       "      <th>retention_1</th>\n",
       "      <th>retention_7</th>\n",
       "    </tr>\n",
       "  </thead>\n",
       "  <tbody>\n",
       "    <tr>\n",
       "      <th>0</th>\n",
       "      <td>116</td>\n",
       "      <td>gate_30</td>\n",
       "      <td>3</td>\n",
       "      <td>False</td>\n",
       "      <td>False</td>\n",
       "    </tr>\n",
       "    <tr>\n",
       "      <th>1</th>\n",
       "      <td>337</td>\n",
       "      <td>gate_30</td>\n",
       "      <td>38</td>\n",
       "      <td>True</td>\n",
       "      <td>False</td>\n",
       "    </tr>\n",
       "    <tr>\n",
       "      <th>2</th>\n",
       "      <td>377</td>\n",
       "      <td>gate_40</td>\n",
       "      <td>165</td>\n",
       "      <td>True</td>\n",
       "      <td>False</td>\n",
       "    </tr>\n",
       "    <tr>\n",
       "      <th>3</th>\n",
       "      <td>483</td>\n",
       "      <td>gate_40</td>\n",
       "      <td>1</td>\n",
       "      <td>False</td>\n",
       "      <td>False</td>\n",
       "    </tr>\n",
       "    <tr>\n",
       "      <th>4</th>\n",
       "      <td>488</td>\n",
       "      <td>gate_40</td>\n",
       "      <td>179</td>\n",
       "      <td>True</td>\n",
       "      <td>True</td>\n",
       "    </tr>\n",
       "  </tbody>\n",
       "</table>\n",
       "</div>"
      ],
      "text/plain": [
       "   userid  version  sum_gamerounds  retention_1  retention_7\n",
       "0     116  gate_30               3        False        False\n",
       "1     337  gate_30              38         True        False\n",
       "2     377  gate_40             165         True        False\n",
       "3     483  gate_40               1        False        False\n",
       "4     488  gate_40             179         True         True"
      ]
     },
     "execution_count": 2,
     "metadata": {},
     "output_type": "execute_result"
    }
   ],
   "source": [
    "cats = pd.read_csv('data/cookie_cats.csv')\n",
    "cats.head()"
   ]
  },
  {
   "cell_type": "code",
   "execution_count": 3,
   "id": "f2e6147a",
   "metadata": {},
   "outputs": [
    {
     "data": {
      "text/plain": [
       "gate_40    45489\n",
       "gate_30    44700\n",
       "Name: version, dtype: int64"
      ]
     },
     "execution_count": 3,
     "metadata": {},
     "output_type": "execute_result"
    }
   ],
   "source": [
    "cats30 = cats.version.value_counts()\n",
    "cats30"
   ]
  },
  {
   "cell_type": "code",
   "execution_count": 4,
   "id": "b0906542",
   "metadata": {},
   "outputs": [
    {
     "data": {
      "text/plain": [
       "False    50036\n",
       "True     40153\n",
       "Name: retention_1, dtype: int64"
      ]
     },
     "execution_count": 4,
     "metadata": {},
     "output_type": "execute_result"
    }
   ],
   "source": [
    "catret1 = cats.retention_1.value_counts()\n",
    "catret1"
   ]
  },
  {
   "cell_type": "code",
   "execution_count": 5,
   "id": "38f422cb",
   "metadata": {},
   "outputs": [
    {
     "data": {
      "text/plain": [
       "False    73408\n",
       "True     16781\n",
       "Name: retention_7, dtype: int64"
      ]
     },
     "execution_count": 5,
     "metadata": {},
     "output_type": "execute_result"
    }
   ],
   "source": [
    "catret1 = cats.retention_7.value_counts()\n",
    "catret1"
   ]
  },
  {
   "cell_type": "code",
   "execution_count": 6,
   "id": "1880a7a1",
   "metadata": {},
   "outputs": [
    {
     "data": {
      "text/html": [
       "<div>\n",
       "<style scoped>\n",
       "    .dataframe tbody tr th:only-of-type {\n",
       "        vertical-align: middle;\n",
       "    }\n",
       "\n",
       "    .dataframe tbody tr th {\n",
       "        vertical-align: top;\n",
       "    }\n",
       "\n",
       "    .dataframe thead th {\n",
       "        text-align: right;\n",
       "    }\n",
       "</style>\n",
       "<table border=\"1\" class=\"dataframe\">\n",
       "  <thead>\n",
       "    <tr style=\"text-align: right;\">\n",
       "      <th>retention_1</th>\n",
       "      <th>False</th>\n",
       "      <th>True</th>\n",
       "    </tr>\n",
       "    <tr>\n",
       "      <th>version</th>\n",
       "      <th></th>\n",
       "      <th></th>\n",
       "    </tr>\n",
       "  </thead>\n",
       "  <tbody>\n",
       "    <tr>\n",
       "      <th>gate_30</th>\n",
       "      <td>24666</td>\n",
       "      <td>20034</td>\n",
       "    </tr>\n",
       "    <tr>\n",
       "      <th>gate_40</th>\n",
       "      <td>25370</td>\n",
       "      <td>20119</td>\n",
       "    </tr>\n",
       "  </tbody>\n",
       "</table>\n",
       "</div>"
      ],
      "text/plain": [
       "retention_1  False   True\n",
       "version                  \n",
       "gate_30      24666  20034\n",
       "gate_40      25370  20119"
      ]
     },
     "execution_count": 6,
     "metadata": {},
     "output_type": "execute_result"
    }
   ],
   "source": [
    "pd.crosstab(cats.version, cats.retention_1)"
   ]
  },
  {
   "cell_type": "code",
   "execution_count": 7,
   "id": "fbc22c5f",
   "metadata": {},
   "outputs": [
    {
     "data": {
      "image/png": "[encoded data removed]",
      "text/plain": [
       "<Figure size 432x288 with 1 Axes>"
      ]
     },
     "metadata": {
      "needs_background": "light"
     },
     "output_type": "display_data"
    }
   ],
   "source": [
    "pd.crosstab(cats.version, cats.retention_1).plot(kind='bar');"
   ]
  },
  {
   "cell_type": "code",
   "execution_count": 8,
   "id": "5b90c429",
   "metadata": {},
   "outputs": [
    {
     "data": {
      "text/html": [
       "<div>\n",
       "<style scoped>\n",
       "    .dataframe tbody tr th:only-of-type {\n",
       "        vertical-align: middle;\n",
       "    }\n",
       "\n",
       "    .dataframe tbody tr th {\n",
       "        vertical-align: top;\n",
       "    }\n",
       "\n",
       "    .dataframe thead th {\n",
       "        text-align: right;\n",
       "    }\n",
       "</style>\n",
       "<table border=\"1\" class=\"dataframe\">\n",
       "  <thead>\n",
       "    <tr style=\"text-align: right;\">\n",
       "      <th></th>\n",
       "      <th>userid</th>\n",
       "      <th>version</th>\n",
       "      <th>sum_gamerounds</th>\n",
       "      <th>retention_1</th>\n",
       "      <th>retention_7</th>\n",
       "    </tr>\n",
       "  </thead>\n",
       "  <tbody>\n",
       "    <tr>\n",
       "      <th>0</th>\n",
       "      <td>116</td>\n",
       "      <td>gate_30</td>\n",
       "      <td>3</td>\n",
       "      <td>False</td>\n",
       "      <td>False</td>\n",
       "    </tr>\n",
       "    <tr>\n",
       "      <th>1</th>\n",
       "      <td>337</td>\n",
       "      <td>gate_30</td>\n",
       "      <td>38</td>\n",
       "      <td>True</td>\n",
       "      <td>False</td>\n",
       "    </tr>\n",
       "    <tr>\n",
       "      <th>2</th>\n",
       "      <td>1066</td>\n",
       "      <td>gate_30</td>\n",
       "      <td>0</td>\n",
       "      <td>False</td>\n",
       "      <td>False</td>\n",
       "    </tr>\n",
       "    <tr>\n",
       "      <th>3</th>\n",
       "      <td>2101</td>\n",
       "      <td>gate_30</td>\n",
       "      <td>0</td>\n",
       "      <td>False</td>\n",
       "      <td>False</td>\n",
       "    </tr>\n",
       "    <tr>\n",
       "      <th>4</th>\n",
       "      <td>2179</td>\n",
       "      <td>gate_30</td>\n",
       "      <td>39</td>\n",
       "      <td>True</td>\n",
       "      <td>False</td>\n",
       "    </tr>\n",
       "  </tbody>\n",
       "</table>\n",
       "</div>"
      ],
      "text/plain": [
       "   userid  version  sum_gamerounds  retention_1  retention_7\n",
       "0     116  gate_30               3        False        False\n",
       "1     337  gate_30              38         True        False\n",
       "2    1066  gate_30               0        False        False\n",
       "3    2101  gate_30               0        False        False\n",
       "4    2179  gate_30              39         True        False"
      ]
     },
     "execution_count": 8,
     "metadata": {},
     "output_type": "execute_result"
    }
   ],
   "source": [
    "control=cats[cats.version=='gate_30']\n",
    "\n",
    "tratamiento=cats[cats.version=='gate_40']\n",
    "\n",
    "ab_test=pd.concat([control, tratamiento], axis=0)\n",
    "\n",
    "ab_test.reset_index(drop=True, inplace=True)\n",
    "\n",
    "ab_test.head()\n"
   ]
  },
  {
   "cell_type": "code",
   "execution_count": 9,
   "id": "5fede2e3",
   "metadata": {},
   "outputs": [
    {
     "data": {
      "text/html": [
       "<div>\n",
       "<style scoped>\n",
       "    .dataframe tbody tr th:only-of-type {\n",
       "        vertical-align: middle;\n",
       "    }\n",
       "\n",
       "    .dataframe tbody tr th {\n",
       "        vertical-align: top;\n",
       "    }\n",
       "\n",
       "    .dataframe thead th {\n",
       "        text-align: right;\n",
       "    }\n",
       "</style>\n",
       "<table border=\"1\" class=\"dataframe\">\n",
       "  <thead>\n",
       "    <tr style=\"text-align: right;\">\n",
       "      <th></th>\n",
       "      <th>userid</th>\n",
       "      <th>version</th>\n",
       "      <th>sum_gamerounds</th>\n",
       "      <th>retention_1</th>\n",
       "      <th>retention_7</th>\n",
       "    </tr>\n",
       "  </thead>\n",
       "  <tbody>\n",
       "    <tr>\n",
       "      <th>90184</th>\n",
       "      <td>9998733</td>\n",
       "      <td>gate_40</td>\n",
       "      <td>10</td>\n",
       "      <td>True</td>\n",
       "      <td>False</td>\n",
       "    </tr>\n",
       "    <tr>\n",
       "      <th>90185</th>\n",
       "      <td>9999441</td>\n",
       "      <td>gate_40</td>\n",
       "      <td>97</td>\n",
       "      <td>True</td>\n",
       "      <td>False</td>\n",
       "    </tr>\n",
       "    <tr>\n",
       "      <th>90186</th>\n",
       "      <td>9999479</td>\n",
       "      <td>gate_40</td>\n",
       "      <td>30</td>\n",
       "      <td>False</td>\n",
       "      <td>False</td>\n",
       "    </tr>\n",
       "    <tr>\n",
       "      <th>90187</th>\n",
       "      <td>9999768</td>\n",
       "      <td>gate_40</td>\n",
       "      <td>51</td>\n",
       "      <td>True</td>\n",
       "      <td>False</td>\n",
       "    </tr>\n",
       "    <tr>\n",
       "      <th>90188</th>\n",
       "      <td>9999861</td>\n",
       "      <td>gate_40</td>\n",
       "      <td>16</td>\n",
       "      <td>False</td>\n",
       "      <td>False</td>\n",
       "    </tr>\n",
       "  </tbody>\n",
       "</table>\n",
       "</div>"
      ],
      "text/plain": [
       "        userid  version  sum_gamerounds  retention_1  retention_7\n",
       "90184  9998733  gate_40              10         True        False\n",
       "90185  9999441  gate_40              97         True        False\n",
       "90186  9999479  gate_40              30        False        False\n",
       "90187  9999768  gate_40              51         True        False\n",
       "90188  9999861  gate_40              16        False        False"
      ]
     },
     "execution_count": 9,
     "metadata": {},
     "output_type": "execute_result"
    }
   ],
   "source": [
    "ab_test.tail()"
   ]
  },
  {
   "cell_type": "code",
   "execution_count": 10,
   "id": "c1d68cfd",
   "metadata": {},
   "outputs": [
    {
     "data": {
      "text/plain": [
       "gate_40    45489\n",
       "gate_30    44700\n",
       "Name: version, dtype: int64"
      ]
     },
     "execution_count": 10,
     "metadata": {},
     "output_type": "execute_result"
    }
   ],
   "source": [
    "ab_test.version.value_counts()"
   ]
  },
  {
   "cell_type": "code",
   "execution_count": 11,
   "id": "a048a711",
   "metadata": {},
   "outputs": [
    {
     "data": {
      "text/html": [
       "<style type=\"text/css\">\n",
       "</style>\n",
       "<table id=\"T_890f4\">\n",
       "  <thead>\n",
       "    <tr>\n",
       "      <th class=\"blank level0\" >&nbsp;</th>\n",
       "      <th id=\"T_890f4_level0_col0\" class=\"col_heading level0 col0\" >retencion_rate</th>\n",
       "      <th id=\"T_890f4_level0_col1\" class=\"col_heading level0 col1\" >std</th>\n",
       "      <th id=\"T_890f4_level0_col2\" class=\"col_heading level0 col2\" >std_error</th>\n",
       "    </tr>\n",
       "    <tr>\n",
       "      <th class=\"index_name level0\" >version</th>\n",
       "      <th class=\"blank col0\" >&nbsp;</th>\n",
       "      <th class=\"blank col1\" >&nbsp;</th>\n",
       "      <th class=\"blank col2\" >&nbsp;</th>\n",
       "    </tr>\n",
       "  </thead>\n",
       "  <tbody>\n",
       "    <tr>\n",
       "      <th id=\"T_890f4_level0_row0\" class=\"row_heading level0 row0\" >gate_30</th>\n",
       "      <td id=\"T_890f4_row0_col0\" class=\"data row0 col0\" >0.448</td>\n",
       "      <td id=\"T_890f4_row0_col1\" class=\"data row0 col1\" >0.497</td>\n",
       "      <td id=\"T_890f4_row0_col2\" class=\"data row0 col2\" >0.002</td>\n",
       "    </tr>\n",
       "    <tr>\n",
       "      <th id=\"T_890f4_level0_row1\" class=\"row_heading level0 row1\" >gate_40</th>\n",
       "      <td id=\"T_890f4_row1_col0\" class=\"data row1 col0\" >0.442</td>\n",
       "      <td id=\"T_890f4_row1_col1\" class=\"data row1 col1\" >0.497</td>\n",
       "      <td id=\"T_890f4_row1_col2\" class=\"data row1 col2\" >0.002</td>\n",
       "    </tr>\n",
       "  </tbody>\n",
       "</table>\n"
      ],
      "text/plain": [
       "<pandas.io.formats.style.Styler at 0x2af64bcb880>"
      ]
     },
     "execution_count": 11,
     "metadata": {},
     "output_type": "execute_result"
    }
   ],
   "source": [
    "tasas_conversion=ab_test.groupby('version')['retention_1']  # agrupo por grupo\n",
    "\n",
    "\n",
    "\n",
    "std=lambda x: np.std(x, ddof=0)    # std\n",
    "error_std=lambda x: stats.sem(x, ddof=0)   # error standard , (std/sqrt(n))\n",
    "\n",
    "\n",
    "\n",
    "tasas_conversion=tasas_conversion.agg([np.mean, std, error_std])\n",
    "tasas_conversion.columns=['retencion_rate', 'std', 'std_error']\n",
    "\n",
    "\n",
    "tasas_conversion.style.format('{:.3f}')\n",
    "\n"
   ]
  },
  {
   "cell_type": "markdown",
   "id": "6fb61e88",
   "metadata": {},
   "source": [
    "### retencion_rate proporcion entre usuarios que se quedan y se van"
   ]
  },
  {
   "cell_type": "code",
   "execution_count": 12,
   "id": "73cf1b5c",
   "metadata": {},
   "outputs": [
    {
     "data": {
      "image/png": "[encoded data removed]",
      "text/plain": [
       "<Figure size 576x432 with 1 Axes>"
      ]
     },
     "metadata": {
      "needs_background": "light"
     },
     "output_type": "display_data"
    }
   ],
   "source": [
    "plt.figure(figsize=(8,6))\n",
    "\n",
    "sns.barplot(x=ab_test['version'], \n",
    "            y=ab_test['retention_1'])\n",
    "\n",
    "plt.ylim(0, 0.5)\n",
    "plt.title('Tasa de retencion por grupo')\n",
    "plt.xlabel('version')\n",
    "plt.ylabel('retenido (proporción)');"
   ]
  },
  {
   "cell_type": "markdown",
   "id": "03ed6dc4",
   "metadata": {},
   "source": [
    "### testear hipotesis"
   ]
  },
  {
   "cell_type": "code",
   "execution_count": 13,
   "id": "d3064422",
   "metadata": {},
   "outputs": [],
   "source": [
    "from statsmodels.stats.proportion import proportions_ztest, proportion_confint\n"
   ]
  },
  {
   "cell_type": "code",
   "execution_count": 14,
   "id": "cooked-magnet",
   "metadata": {},
   "outputs": [],
   "source": [
    "# seleccionar grupos\n",
    "\n",
    "version30_res=ab_test[ab_test.version=='gate_30']['retention_1'] # nuevo dataframe filtrando la version 30 en la columna retention_1\n",
    "\n",
    "version40_res=ab_test[ab_test.version=='gate_40']['retention_1']"
   ]
  },
  {
   "cell_type": "code",
   "execution_count": 15,
   "id": "2dda088e",
   "metadata": {},
   "outputs": [
    {
     "data": {
      "text/plain": [
       "0        False\n",
       "1         True\n",
       "2        False\n",
       "3        False\n",
       "4         True\n",
       "         ...  \n",
       "44695     True\n",
       "44696    False\n",
       "44697     True\n",
       "44698    False\n",
       "44699     True\n",
       "Name: retention_1, Length: 44700, dtype: bool"
      ]
     },
     "execution_count": 15,
     "metadata": {},
     "output_type": "execute_result"
    }
   ],
   "source": [
    "version30_res"
   ]
  },
  {
   "cell_type": "code",
   "execution_count": 16,
   "id": "b0430a46",
   "metadata": {},
   "outputs": [
    {
     "data": {
      "text/plain": [
       "(90189, 5)"
      ]
     },
     "execution_count": 16,
     "metadata": {},
     "output_type": "execute_result"
    }
   ],
   "source": [
    "cats.shape\n"
   ]
  },
  {
   "cell_type": "code",
   "execution_count": 17,
   "id": "196a279a",
   "metadata": {},
   "outputs": [],
   "source": [
    "observaciones=[90189, 90189]  # count\n",
    "\n",
    "retenciones=[version30_res.sum(), version40_res.sum()]  # conversiones por grupo\n",
    "\n",
    "\n",
    "z_score, p_valor = proportions_ztest(retenciones, nobs=observaciones)\n",
    "\n",
    "(version30_a, version40_a), (version30_b, version40_b) = proportion_confint(retenciones, \n",
    "                                                                nobs=observaciones,\n",
    "                                                                alpha=0.05)"
   ]
  },
  {
   "cell_type": "code",
   "execution_count": 18,
   "id": "ccac759c",
   "metadata": {},
   "outputs": [
    {
     "name": "stdout",
     "output_type": "stream",
     "text": [
      "z-score: -0.48\n",
      "p-valor: 0.630\n",
      "intervalo conf 95% para version 30: [0.219, 0.225]\n",
      "intervalo conf 95% para version 40: [0.220, 0.226]\n"
     ]
    }
   ],
   "source": [
    "print(f'z-score: {z_score:.2f}')\n",
    "print(f'p-valor: {p_valor:.3f}')\n",
    "print(f'intervalo conf 95% para version 30: [{version30_a:.3f}, {version30_b:.3f}]')\n",
    "print(f'intervalo conf 95% para version 40: [{version40_a:.3f}, {version40_b:.3f}]')"
   ]
  },
  {
   "cell_type": "markdown",
   "id": "5055a101",
   "metadata": {},
   "source": [
    "###  Interpretar resultados\n"
   ]
  },
  {
   "cell_type": "markdown",
   "id": "f4acc37a",
   "metadata": {},
   "source": [
    "La hipotesis 0 = el porcentaje de retencion de la version 30 es mayor que el da la v40\n",
    "\n",
    "\n",
    "Dado que el pvalor=0.63 es mayor que =0.05, no podemos rechazar la hipótesis nula , lo que significa que la v40 del \n",
    "juego no tiene una retencion significativamente diferente a la v30.\n",
    "\n",
    "Puedo decirte con un porcetaje de confianza del 95% que la version 30 tiene una porcentaje de retencion comprendido entre...\n",
    "Puedo decirte con un porcetaje de confianza del 95% que la version 40 tiene una porcentaje de retencion comprendido entre..."
   ]
  },
  {
   "cell_type": "code",
   "execution_count": 19,
   "id": "4caddd9e",
   "metadata": {},
   "outputs": [
    {
     "data": {
      "text/html": [
       "<div>\n",
       "<style scoped>\n",
       "    .dataframe tbody tr th:only-of-type {\n",
       "        vertical-align: middle;\n",
       "    }\n",
       "\n",
       "    .dataframe tbody tr th {\n",
       "        vertical-align: top;\n",
       "    }\n",
       "\n",
       "    .dataframe thead th {\n",
       "        text-align: right;\n",
       "    }\n",
       "</style>\n",
       "<table border=\"1\" class=\"dataframe\">\n",
       "  <thead>\n",
       "    <tr style=\"text-align: right;\">\n",
       "      <th></th>\n",
       "      <th>retencion_rate</th>\n",
       "      <th>std</th>\n",
       "      <th>std_error</th>\n",
       "    </tr>\n",
       "    <tr>\n",
       "      <th>version</th>\n",
       "      <th></th>\n",
       "      <th></th>\n",
       "      <th></th>\n",
       "    </tr>\n",
       "  </thead>\n",
       "  <tbody>\n",
       "    <tr>\n",
       "      <th>gate_30</th>\n",
       "      <td>0.448188</td>\n",
       "      <td>0.497308</td>\n",
       "      <td>0.002352</td>\n",
       "    </tr>\n",
       "    <tr>\n",
       "      <th>gate_40</th>\n",
       "      <td>0.442283</td>\n",
       "      <td>0.496658</td>\n",
       "      <td>0.002329</td>\n",
       "    </tr>\n",
       "  </tbody>\n",
       "</table>\n",
       "</div>"
      ],
      "text/plain": [
       "         retencion_rate       std  std_error\n",
       "version                                     \n",
       "gate_30        0.448188  0.497308   0.002352\n",
       "gate_40        0.442283  0.496658   0.002329"
      ]
     },
     "execution_count": 19,
     "metadata": {},
     "output_type": "execute_result"
    }
   ],
   "source": [
    "\n",
    "tasas_conversion"
   ]
  },
  {
   "cell_type": "code",
   "execution_count": 20,
   "id": "123b7195",
   "metadata": {},
   "outputs": [],
   "source": [
    "\n",
    "from scipy.stats import norm"
   ]
  },
  {
   "cell_type": "code",
   "execution_count": 21,
   "id": "dc50c11f",
   "metadata": {},
   "outputs": [
    {
     "data": {
      "image/png": "[encoded data removed]",
      "text/plain": [
       "<Figure size 432x288 with 1 Axes>"
      ]
     },
     "metadata": {
      "needs_background": "light"
     },
     "output_type": "display_data"
    }
   ],
   "source": [
    "x=[i*.1 for i in range(-5, 8)]  \n",
    "\n",
    "control=[norm.pdf(x, tasas_conversion.iloc[0][0], tasas_conversion.iloc[0][1]) for x in x] \n",
    "\n",
    "tratamiento=[norm.pdf(x, tasas_conversion.iloc[1][0], tasas_conversion.iloc[1][1]) for x in x] \n",
    "\n",
    "plt.plot(x, control)\n",
    "plt.plot(x, tratamiento)\n",
    "plt.legend(['version_30', 'version_40']);"
   ]
  },
  {
   "cell_type": "markdown",
   "id": "e1ea6ed1",
   "metadata": {},
   "source": [
    "# retencion 7"
   ]
  },
  {
   "cell_type": "code",
   "execution_count": 22,
   "id": "2bec439f",
   "metadata": {},
   "outputs": [
    {
     "data": {
      "text/html": [
       "<style type=\"text/css\">\n",
       "</style>\n",
       "<table id=\"T_0c36f\">\n",
       "  <thead>\n",
       "    <tr>\n",
       "      <th class=\"blank level0\" >&nbsp;</th>\n",
       "      <th id=\"T_0c36f_level0_col0\" class=\"col_heading level0 col0\" >retencion_rate</th>\n",
       "      <th id=\"T_0c36f_level0_col1\" class=\"col_heading level0 col1\" >std</th>\n",
       "      <th id=\"T_0c36f_level0_col2\" class=\"col_heading level0 col2\" >std_error</th>\n",
       "    </tr>\n",
       "    <tr>\n",
       "      <th class=\"index_name level0\" >version</th>\n",
       "      <th class=\"blank col0\" >&nbsp;</th>\n",
       "      <th class=\"blank col1\" >&nbsp;</th>\n",
       "      <th class=\"blank col2\" >&nbsp;</th>\n",
       "    </tr>\n",
       "  </thead>\n",
       "  <tbody>\n",
       "    <tr>\n",
       "      <th id=\"T_0c36f_level0_row0\" class=\"row_heading level0 row0\" >gate_30</th>\n",
       "      <td id=\"T_0c36f_row0_col0\" class=\"data row0 col0\" >0.190</td>\n",
       "      <td id=\"T_0c36f_row0_col1\" class=\"data row0 col1\" >0.392</td>\n",
       "      <td id=\"T_0c36f_row0_col2\" class=\"data row0 col2\" >0.002</td>\n",
       "    </tr>\n",
       "    <tr>\n",
       "      <th id=\"T_0c36f_level0_row1\" class=\"row_heading level0 row1\" >gate_40</th>\n",
       "      <td id=\"T_0c36f_row1_col0\" class=\"data row1 col0\" >0.182</td>\n",
       "      <td id=\"T_0c36f_row1_col1\" class=\"data row1 col1\" >0.386</td>\n",
       "      <td id=\"T_0c36f_row1_col2\" class=\"data row1 col2\" >0.002</td>\n",
       "    </tr>\n",
       "  </tbody>\n",
       "</table>\n"
      ],
      "text/plain": [
       "<pandas.io.formats.style.Styler at 0x2af64d9cb50>"
      ]
     },
     "execution_count": 22,
     "metadata": {},
     "output_type": "execute_result"
    }
   ],
   "source": [
    "tasas_conversion=ab_test.groupby('version')['retention_7']  # agrupo por grupo\n",
    "\n",
    "\n",
    "\n",
    "std=lambda x: np.std(x, ddof=0)    # std\n",
    "error_std=lambda x: stats.sem(x, ddof=0)   # error standard , (std/sqrt(n))\n",
    "\n",
    "\n",
    "\n",
    "tasas_conversion=tasas_conversion.agg([np.mean, std, error_std])\n",
    "tasas_conversion.columns=['retencion_rate', 'std', 'std_error']\n",
    "\n",
    "\n",
    "tasas_conversion.style.format('{:.3f}')\n"
   ]
  },
  {
   "cell_type": "code",
   "execution_count": 23,
   "id": "df82b2ea",
   "metadata": {},
   "outputs": [
    {
     "data": {
      "image/png": "[encoded data removed]",
      "text/plain": [
       "<Figure size 576x432 with 1 Axes>"
      ]
     },
     "metadata": {
      "needs_background": "light"
     },
     "output_type": "display_data"
    }
   ],
   "source": [
    "plt.figure(figsize=(8,6))\n",
    "\n",
    "sns.barplot(x=ab_test['version'], \n",
    "            y=ab_test['retention_7'])\n",
    "\n",
    "plt.ylim(0, 0.5)\n",
    "plt.title('Tasa de retencion por grupo')\n",
    "plt.xlabel('version')\n",
    "plt.ylabel('retenido (proporción)');"
   ]
  },
  {
   "cell_type": "code",
   "execution_count": 24,
   "id": "6a0e0cbb",
   "metadata": {},
   "outputs": [],
   "source": [
    "# seleccionar grupos\n",
    "\n",
    "version307_res=ab_test[ab_test.version=='gate_30']['retention_7'] # nuevo dataframe filtrando la version 30 en la columna retention_1\n",
    "\n",
    "version407_res=ab_test[ab_test.version=='gate_40']['retention_7']"
   ]
  },
  {
   "cell_type": "code",
   "execution_count": 25,
   "id": "cccac7a1",
   "metadata": {},
   "outputs": [],
   "source": [
    "observaciones=[90189, 90189]  # count\n",
    "\n",
    "retenciones=[version307_res.sum(), version407_res.sum()]  # conversiones por grupo\n",
    "\n",
    "\n",
    "z_score, p_valor = proportions_ztest(retenciones, nobs=observaciones)\n",
    "\n",
    "(version307_a, version407_a), (version307_b, version407_b) = proportion_confint(retenciones, \n",
    "                                                                nobs=observaciones,\n",
    "                                                                alpha=0.05)"
   ]
  },
  {
   "cell_type": "code",
   "execution_count": 26,
   "id": "0e9e0d8e",
   "metadata": {},
   "outputs": [
    {
     "name": "stdout",
     "output_type": "stream",
     "text": [
      "z-score: 1.81\n",
      "p-valor: 0.071\n",
      "intervalo conf 95% para version 30: [0.092, 0.096]\n",
      "intervalo conf 95% para version 40: [0.090, 0.094]\n"
     ]
    }
   ],
   "source": [
    "print(f'z-score: {z_score:.2f}')\n",
    "print(f'p-valor: {p_valor:.3f}')\n",
    "print(f'intervalo conf 95% para version 30: [{version307_a:.3f}, {version307_b:.3f}]')\n",
    "print(f'intervalo conf 95% para version 40: [{version407_a:.3f}, {version407_b:.3f}]')"
   ]
  },
  {
   "cell_type": "code",
   "execution_count": 27,
   "id": "e764cc66",
   "metadata": {},
   "outputs": [
    {
     "data": {
      "image/png": "[encoded data removed]",
      "text/plain": [
       "<Figure size 432x288 with 1 Axes>"
      ]
     },
     "metadata": {
      "needs_background": "light"
     },
     "output_type": "display_data"
    }
   ],
   "source": [
    "x=[i*.1 for i in range(-5, 8)]  \n",
    "\n",
    "control=[norm.pdf(x, tasas_conversion.iloc[0][0], tasas_conversion.iloc[0][1]) for x in x] \n",
    "\n",
    "tratamiento=[norm.pdf(x, tasas_conversion.iloc[1][0], tasas_conversion.iloc[1][1]) for x in x] \n",
    "\n",
    "plt.plot(x, control)\n",
    "plt.plot(x, tratamiento)\n",
    "plt.legend(['version_307', 'version_407']);"
   ]
  },
  {
   "cell_type": "code",
   "execution_count": null,
   "id": "1adb2640",
   "metadata": {},
   "outputs": [],
   "source": []
  },
  {
   "cell_type": "markdown",
   "id": "1aaa0365",
   "metadata": {},
   "source": [
    "# TEST AB BAYES"
   ]
  },
  {
   "cell_type": "code",
   "execution_count": null,
   "id": "a81adc2e",
   "metadata": {},
   "outputs": [],
   "source": [
    "import pandas as pd"
   ]
  },
  {
   "cell_type": "code",
   "execution_count": 29,
   "id": "c9f43d23",
   "metadata": {},
   "outputs": [
    {
     "data": {
      "text/html": [
       "<div>\n",
       "<style scoped>\n",
       "    .dataframe tbody tr th:only-of-type {\n",
       "        vertical-align: middle;\n",
       "    }\n",
       "\n",
       "    .dataframe tbody tr th {\n",
       "        vertical-align: top;\n",
       "    }\n",
       "\n",
       "    .dataframe thead th {\n",
       "        text-align: right;\n",
       "    }\n",
       "</style>\n",
       "<table border=\"1\" class=\"dataframe\">\n",
       "  <thead>\n",
       "    <tr style=\"text-align: right;\">\n",
       "      <th>retention_1</th>\n",
       "      <th>False</th>\n",
       "      <th>True</th>\n",
       "    </tr>\n",
       "    <tr>\n",
       "      <th>version</th>\n",
       "      <th></th>\n",
       "      <th></th>\n",
       "    </tr>\n",
       "  </thead>\n",
       "  <tbody>\n",
       "    <tr>\n",
       "      <th>gate_30</th>\n",
       "      <td>24666</td>\n",
       "      <td>20034</td>\n",
       "    </tr>\n",
       "    <tr>\n",
       "      <th>gate_40</th>\n",
       "      <td>25370</td>\n",
       "      <td>20119</td>\n",
       "    </tr>\n",
       "  </tbody>\n",
       "</table>\n",
       "</div>"
      ],
      "text/plain": [
       "retention_1  False   True\n",
       "version                  \n",
       "gate_30      24666  20034\n",
       "gate_40      25370  20119"
      ]
     },
     "execution_count": 29,
     "metadata": {},
     "output_type": "execute_result"
    }
   ],
   "source": [
    "pd.crosstab(cats.version, cats.retention_1)"
   ]
  },
  {
   "cell_type": "code",
   "execution_count": 38,
   "id": "edb43e92",
   "metadata": {},
   "outputs": [
    {
     "data": {
      "text/plain": [
       "gate_40    45489\n",
       "gate_30    44700\n",
       "Name: version, dtype: int64"
      ]
     },
     "execution_count": 38,
     "metadata": {},
     "output_type": "execute_result"
    }
   ],
   "source": [
    "cats.version.value_counts()"
   ]
  },
  {
   "cell_type": "code",
   "execution_count": 44,
   "id": "c8090be9",
   "metadata": {},
   "outputs": [
    {
     "data": {
      "text/plain": [
       "'TASAS: version30=0.4404141660621249, version40=0.44228274967574577'"
      ]
     },
     "execution_count": 44,
     "metadata": {},
     "output_type": "execute_result"
    }
   ],
   "source": [
    "cats.imps_v30, ret_v30 = 44700, 20034   # entrar, retenciones version 30\n",
    "imps_v40, ret_v40= 45489, 20119 # entrar, retenciones version 40\n",
    "\n",
    "\n",
    "CR_v30 = ret_v30/imps_v30\n",
    "CR_v40 = ret_v40/imps_v40\n",
    "\n",
    "f'TASAS: version30={CR_v30}, version40={CR_v40}'"
   ]
  },
  {
   "cell_type": "code",
   "execution_count": 46,
   "id": "352dbf2a",
   "metadata": {},
   "outputs": [],
   "source": [
    "from scipy.stats import bernoulli, beta  "
   ]
  },
  {
   "cell_type": "code",
   "execution_count": 47,
   "id": "a08a93c0",
   "metadata": {},
   "outputs": [],
   "source": [
    "# aprioris\n",
    "\n",
    "a_v30, b_v30 = ret_v30+1, imps_v30-ret_v30+1  # a_h0, b_h0 =  nº retenciones_h0+1 , nº impresiones_h0 - nº retencion_h0+1\n",
    "\n",
    "a_v40, b_v40 = ret_v40+1, imps_v40-ret_v40+1  # a_h1, b_h1 = nº retenciones_h1+1 , nº impresiones_h1 - nº retencion_h1+1\n",
    "\n",
    "beta_v30=beta(a_v30, b_v30) # IMPORTAR ESTO : from scipy.stats import bernoulli, beta  \n",
    "beta_v40=beta(a_v40, b_v40)"
   ]
  },
  {
   "cell_type": "code",
   "execution_count": 48,
   "id": "6f1b83af",
   "metadata": {},
   "outputs": [
    {
     "data": {
      "text/plain": [
       "(0.44041678573783827, 0.44228528719966587)"
      ]
     },
     "execution_count": 48,
     "metadata": {},
     "output_type": "execute_result"
    }
   ],
   "source": [
    "beta_v30.mean(), beta_v40.mean()"
   ]
  },
  {
   "cell_type": "code",
   "execution_count": 54,
   "id": "8cd8615c",
   "metadata": {},
   "outputs": [],
   "source": [
    "import bayes"
   ]
  },
  {
   "cell_type": "code",
   "execution_count": 56,
   "id": "97b2789d",
   "metadata": {},
   "outputs": [
    {
     "data": {
      "image/png": "[encoded data removed]",
      "text/plain": [
       "<Figure size 432x288 with 1 Axes>"
      ]
     },
     "metadata": {
      "needs_background": "light"
     },
     "output_type": "display_data"
    }
   ],
   "source": [
    "bayes.plot([beta_v30, beta_v40], ['gate_30', 'gate_40'], linf=0.41, lsup=0.47)"
   ]
  },
  {
   "cell_type": "code",
   "execution_count": null,
   "id": "1f11bd43",
   "metadata": {},
   "outputs": [],
   "source": [
    "# salto=(beta_test.mean() - beta_control.mean())/beta_control.mean()\n",
    "\n",
    "# salto"
   ]
  },
  {
   "cell_type": "code",
   "execution_count": 60,
   "id": "7552fb24",
   "metadata": {},
   "outputs": [
    {
     "data": {
      "text/plain": [
       "0.004242575492887412"
      ]
     },
     "execution_count": 60,
     "metadata": {},
     "output_type": "execute_result"
    }
   ],
   "source": [
    "salto=(beta_v40.mean() - beta_v30.mean())/beta_v30.mean()\n",
    "\n",
    "salto"
   ]
  },
  {
   "cell_type": "code",
   "execution_count": 58,
   "id": "056cf3a6",
   "metadata": {},
   "outputs": [
    {
     "name": "stdout",
     "output_type": "stream",
     "text": [
      "Requirement already satisfied: mpmath in c:\\users\\pablo\\anaconda3\\lib\\site-packages (1.2.1)\n",
      "Note: you may need to restart the kernel to use updated packages.\n"
     ]
    }
   ],
   "source": [
    "%pip install mpmath\n",
    "\n",
    "from mpmath import betainc   # integral de beta"
   ]
  },
  {
   "cell_type": "code",
   "execution_count": null,
   "id": "1a60c431",
   "metadata": {},
   "outputs": [],
   "source": [
    "# bayes.calc_prob(beta_control, beta_test)"
   ]
  },
  {
   "cell_type": "code",
   "execution_count": 61,
   "id": "8bd5d7e9",
   "metadata": {},
   "outputs": [
    {
     "data": {
      "text/plain": [
       "0.2851791120536727"
      ]
     },
     "execution_count": 61,
     "metadata": {},
     "output_type": "execute_result"
    }
   ],
   "source": [
    "bayes.calc_prob(beta_v30, beta_v40)"
   ]
  },
  {
   "cell_type": "code",
   "execution_count": 62,
   "id": "806b12fb",
   "metadata": {},
   "outputs": [
    {
     "ename": "NoConvergence",
     "evalue": "Hypergeometric series converges too slowly. Try increasing maxterms.",
     "output_type": "error",
     "traceback": [
      "\u001b[1;31m---------------------------------------------------------------------------\u001b[0m",
      "\u001b[1;31mNoConvergence\u001b[0m                             Traceback (most recent call last)",
      "Input \u001b[1;32mIn [62]\u001b[0m, in \u001b[0;36m<cell line: 1>\u001b[1;34m()\u001b[0m\n\u001b[1;32m----> 1\u001b[0m prob\u001b[38;5;241m=\u001b[39m\u001b[43mbetainc\u001b[49m\u001b[43m(\u001b[49m\u001b[43ma_v40\u001b[49m\u001b[43m,\u001b[49m\u001b[43m \u001b[49m\u001b[43mb_v40\u001b[49m\u001b[43m,\u001b[49m\u001b[43m \u001b[49m\u001b[38;5;241;43m0.28\u001b[39;49m\u001b[43m,\u001b[49m\u001b[43m \u001b[49m\u001b[38;5;241;43m1\u001b[39;49m\u001b[43m,\u001b[49m\u001b[43m \u001b[49m\u001b[43mregularized\u001b[49m\u001b[38;5;241;43m=\u001b[39;49m\u001b[38;5;28;43;01mTrue\u001b[39;49;00m\u001b[43m)\u001b[49m \u001b[38;5;66;03m# utilizar version nueva/test/v40\u001b[39;00m\n\u001b[0;32m      3\u001b[0m prob\u001b[38;5;241m=\u001b[39m\u001b[38;5;28mfloat\u001b[39m(prob)\n\u001b[0;32m      5\u001b[0m prob\n",
      "File \u001b[1;32m~\\Anaconda3\\lib\\site-packages\\mpmath\\ctx_mp_python.py:1021\u001b[0m, in \u001b[0;36mPythonMPContext._wrap_specfun.<locals>.f_wrapped\u001b[1;34m(ctx, *args, **kwargs)\u001b[0m\n\u001b[0;32m   1019\u001b[0m \u001b[38;5;28;01mtry\u001b[39;00m:\n\u001b[0;32m   1020\u001b[0m     ctx\u001b[38;5;241m.\u001b[39mprec \u001b[38;5;241m+\u001b[39m\u001b[38;5;241m=\u001b[39m \u001b[38;5;241m10\u001b[39m\n\u001b[1;32m-> 1021\u001b[0m     retval \u001b[38;5;241m=\u001b[39m f(ctx, \u001b[38;5;241m*\u001b[39margs, \u001b[38;5;241m*\u001b[39m\u001b[38;5;241m*\u001b[39mkwargs)\n\u001b[0;32m   1022\u001b[0m \u001b[38;5;28;01mfinally\u001b[39;00m:\n\u001b[0;32m   1023\u001b[0m     ctx\u001b[38;5;241m.\u001b[39mprec \u001b[38;5;241m=\u001b[39m prec\n",
      "File \u001b[1;32m~\\Anaconda3\\lib\\site-packages\\mpmath\\functions\\expintegrals.py:127\u001b[0m, in \u001b[0;36mbetainc\u001b[1;34m(ctx, a, b, x1, x2, regularized)\u001b[0m\n\u001b[0;32m    125\u001b[0m             ctx\u001b[38;5;241m.\u001b[39mprec \u001b[38;5;241m-\u001b[39m\u001b[38;5;241m=\u001b[39m d\n\u001b[0;32m    126\u001b[0m     s1 \u001b[38;5;241m=\u001b[39m x2\u001b[38;5;241m*\u001b[39m\u001b[38;5;241m*\u001b[39ma \u001b[38;5;241m*\u001b[39m ctx\u001b[38;5;241m.\u001b[39mhyp2f1(a,\u001b[38;5;241m1\u001b[39m\u001b[38;5;241m-\u001b[39mb,a\u001b[38;5;241m+\u001b[39m\u001b[38;5;241m1\u001b[39m,x2)\n\u001b[1;32m--> 127\u001b[0m     s2 \u001b[38;5;241m=\u001b[39m x1\u001b[38;5;241m*\u001b[39m\u001b[38;5;241m*\u001b[39ma \u001b[38;5;241m*\u001b[39m \u001b[43mctx\u001b[49m\u001b[38;5;241;43m.\u001b[39;49m\u001b[43mhyp2f1\u001b[49m\u001b[43m(\u001b[49m\u001b[43ma\u001b[49m\u001b[43m,\u001b[49m\u001b[38;5;241;43m1\u001b[39;49m\u001b[38;5;241;43m-\u001b[39;49m\u001b[43mb\u001b[49m\u001b[43m,\u001b[49m\u001b[43ma\u001b[49m\u001b[38;5;241;43m+\u001b[39;49m\u001b[38;5;241;43m1\u001b[39;49m\u001b[43m,\u001b[49m\u001b[43mx1\u001b[49m\u001b[43m)\u001b[49m\n\u001b[0;32m    128\u001b[0m     v \u001b[38;5;241m=\u001b[39m (s1 \u001b[38;5;241m-\u001b[39m s2) \u001b[38;5;241m/\u001b[39m a\n\u001b[0;32m    129\u001b[0m \u001b[38;5;28;01mif\u001b[39;00m regularized:\n",
      "File \u001b[1;32m~\\Anaconda3\\lib\\site-packages\\mpmath\\functions\\hypergeometric.py:251\u001b[0m, in \u001b[0;36mhyp2f1\u001b[1;34m(ctx, a, b, c, z, **kwargs)\u001b[0m\n\u001b[0;32m    249\u001b[0m \u001b[38;5;129m@defun\u001b[39m\n\u001b[0;32m    250\u001b[0m \u001b[38;5;28;01mdef\u001b[39;00m \u001b[38;5;21mhyp2f1\u001b[39m(ctx,a,b,c,z,\u001b[38;5;241m*\u001b[39m\u001b[38;5;241m*\u001b[39mkwargs):\n\u001b[1;32m--> 251\u001b[0m     \u001b[38;5;28;01mreturn\u001b[39;00m ctx\u001b[38;5;241m.\u001b[39mhyper([a,b],[c],z,\u001b[38;5;241m*\u001b[39m\u001b[38;5;241m*\u001b[39mkwargs)\n",
      "File \u001b[1;32m~\\Anaconda3\\lib\\site-packages\\mpmath\\functions\\hypergeometric.py:226\u001b[0m, in \u001b[0;36mhyper\u001b[1;34m(ctx, a_s, b_s, z, **kwargs)\u001b[0m\n\u001b[0;32m    224\u001b[0m     \u001b[38;5;28;01melif\u001b[39;00m q \u001b[38;5;241m==\u001b[39m \u001b[38;5;241m0\u001b[39m: \u001b[38;5;28;01mreturn\u001b[39;00m ctx\u001b[38;5;241m.\u001b[39m_hyp1f0(a_s[\u001b[38;5;241m0\u001b[39m][\u001b[38;5;241m0\u001b[39m], z)\n\u001b[0;32m    225\u001b[0m \u001b[38;5;28;01melif\u001b[39;00m p \u001b[38;5;241m==\u001b[39m \u001b[38;5;241m2\u001b[39m:\n\u001b[1;32m--> 226\u001b[0m     \u001b[38;5;28;01mif\u001b[39;00m   q \u001b[38;5;241m==\u001b[39m \u001b[38;5;241m1\u001b[39m: \u001b[38;5;28;01mreturn\u001b[39;00m ctx\u001b[38;5;241m.\u001b[39m_hyp2f1(a_s, b_s, z, \u001b[38;5;241m*\u001b[39m\u001b[38;5;241m*\u001b[39mkwargs)\n\u001b[0;32m    227\u001b[0m     \u001b[38;5;28;01melif\u001b[39;00m q \u001b[38;5;241m==\u001b[39m \u001b[38;5;241m2\u001b[39m: \u001b[38;5;28;01mreturn\u001b[39;00m ctx\u001b[38;5;241m.\u001b[39m_hyp2f2(a_s, b_s, z, \u001b[38;5;241m*\u001b[39m\u001b[38;5;241m*\u001b[39mkwargs)\n\u001b[0;32m    228\u001b[0m     \u001b[38;5;28;01melif\u001b[39;00m q \u001b[38;5;241m==\u001b[39m \u001b[38;5;241m3\u001b[39m: \u001b[38;5;28;01mreturn\u001b[39;00m ctx\u001b[38;5;241m.\u001b[39m_hyp2f3(a_s, b_s, z, \u001b[38;5;241m*\u001b[39m\u001b[38;5;241m*\u001b[39mkwargs)\n",
      "File \u001b[1;32m~\\Anaconda3\\lib\\site-packages\\mpmath\\functions\\hypergeometric.py:443\u001b[0m, in \u001b[0;36m_hyp2f1\u001b[1;34m(ctx, a_s, b_s, z, **kwargs)\u001b[0m\n\u001b[0;32m    439\u001b[0m \u001b[38;5;66;03m# Fast case: standard series converges rapidly,\u001b[39;00m\n\u001b[0;32m    440\u001b[0m \u001b[38;5;66;03m# possibly in finitely many terms\u001b[39;00m\n\u001b[0;32m    441\u001b[0m \u001b[38;5;28;01mif\u001b[39;00m absz \u001b[38;5;241m<\u001b[39m\u001b[38;5;241m=\u001b[39m \u001b[38;5;241m0.8\u001b[39m \u001b[38;5;129;01mor\u001b[39;00m (ctx\u001b[38;5;241m.\u001b[39misint(a) \u001b[38;5;129;01mand\u001b[39;00m a \u001b[38;5;241m<\u001b[39m\u001b[38;5;241m=\u001b[39m \u001b[38;5;241m0\u001b[39m \u001b[38;5;129;01mand\u001b[39;00m a \u001b[38;5;241m>\u001b[39m\u001b[38;5;241m=\u001b[39m \u001b[38;5;241m-\u001b[39m\u001b[38;5;241m1000\u001b[39m) \u001b[38;5;129;01mor\u001b[39;00m \\\n\u001b[0;32m    442\u001b[0m                   (ctx\u001b[38;5;241m.\u001b[39misint(b) \u001b[38;5;129;01mand\u001b[39;00m b \u001b[38;5;241m<\u001b[39m\u001b[38;5;241m=\u001b[39m \u001b[38;5;241m0\u001b[39m \u001b[38;5;129;01mand\u001b[39;00m b \u001b[38;5;241m>\u001b[39m\u001b[38;5;241m=\u001b[39m \u001b[38;5;241m-\u001b[39m\u001b[38;5;241m1000\u001b[39m):\n\u001b[1;32m--> 443\u001b[0m     \u001b[38;5;28;01mreturn\u001b[39;00m ctx\u001b[38;5;241m.\u001b[39mhypsum(\u001b[38;5;241m2\u001b[39m, \u001b[38;5;241m1\u001b[39m, (atype, btype, ctype), [a, b, c], z, \u001b[38;5;241m*\u001b[39m\u001b[38;5;241m*\u001b[39mkwargs)\n\u001b[0;32m    445\u001b[0m orig \u001b[38;5;241m=\u001b[39m ctx\u001b[38;5;241m.\u001b[39mprec\n\u001b[0;32m    446\u001b[0m \u001b[38;5;28;01mtry\u001b[39;00m:\n",
      "File \u001b[1;32m~\\Anaconda3\\lib\\site-packages\\mpmath\\ctx_mp.py:714\u001b[0m, in \u001b[0;36mMPContext.hypsum\u001b[1;34m(ctx, p, q, flags, coeffs, z, accurate_small, **kwargs)\u001b[0m\n\u001b[0;32m    712\u001b[0m \u001b[38;5;28;01melse\u001b[39;00m:\n\u001b[0;32m    713\u001b[0m     mag_dict \u001b[38;5;241m=\u001b[39m {}\n\u001b[1;32m--> 714\u001b[0m zv, have_complex, magnitude \u001b[38;5;241m=\u001b[39m summator(coeffs, v, prec, wp, \\\n\u001b[0;32m    715\u001b[0m     epsshift, mag_dict, \u001b[38;5;241m*\u001b[39m\u001b[38;5;241m*\u001b[39mkwargs)\n\u001b[0;32m    716\u001b[0m cancel \u001b[38;5;241m=\u001b[39m \u001b[38;5;241m-\u001b[39mmagnitude\n\u001b[0;32m    717\u001b[0m jumps_resolved \u001b[38;5;241m=\u001b[39m \u001b[38;5;28;01mTrue\u001b[39;00m\n",
      "File \u001b[1;32m<string>:31\u001b[0m, in \u001b[0;36mhypsum_2_1_ZZ_Z_R\u001b[1;34m(coeffs, z, prec, wp, epsshift, magnitude_check, **kwargs)\u001b[0m\n",
      "\u001b[1;31mNoConvergence\u001b[0m: Hypergeometric series converges too slowly. Try increasing maxterms."
     ]
    }
   ],
   "source": [
    "prob=betainc(a_v40, b_v40, 0.28, 1, regularized=True) # utilizar version nueva/test/v40\n",
    "\n",
    "prob=float(prob)\n",
    "\n",
    "prob"
   ]
  },
  {
   "cell_type": "code",
   "execution_count": null,
   "id": "d8d82eaa",
   "metadata": {},
   "outputs": [],
   "source": []
  }
 ],
 "metadata": {
  "finalized": {
   "timestamp": 1642857010293,
   "trusted": true
  },
  "kernelspec": {
   "display_name": "Python 3 (ipykernel)",
   "language": "python",
   "name": "python3"
  },
  "language_info": {
   "codemirror_mode": {
    "name": "ipython",
    "version": 3
   },
   "file_extension": ".py",
   "mimetype": "text/x-python",
   "name": "python",
   "nbconvert_exporter": "python",
   "pygments_lexer": "ipython3",
   "version": "3.9.12"
  },
  "toc": {
   "base_numbering": 1,
   "nav_menu": {},
   "number_sections": true,
   "sideBar": true,
   "skip_h1_title": false,
   "title_cell": "Table of Contents",
   "title_sidebar": "Contents",
   "toc_cell": true,
   "toc_position": {},
   "toc_section_display": true,
   "toc_window_display": false
  },
  "varInspector": {
   "cols": {
    "lenName": 16,
    "lenType": 16,
    "lenVar": 40
   },
   "kernels_config": {
    "python": {
     "delete_cmd_postfix": "",
     "delete_cmd_prefix": "del ",
     "library": "var_list.py",
     "varRefreshCmd": "print(var_dic_list())"
    },
    "r": {
     "delete_cmd_postfix": ") ",
     "delete_cmd_prefix": "rm(",
     "library": "var_list.r",
     "varRefreshCmd": "cat(var_dic_list()) "
    }
   },
   "types_to_exclude": [
    "module",
    "function",
    "builtin_function_or_method",
    "instance",
    "_Feature"
   ],
   "window_display": false
  }
 },
 "nbformat": 4,
 "nbformat_minor": 5
}
